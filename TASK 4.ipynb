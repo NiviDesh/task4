{
 "cells": [
  {
   "cell_type": "code",
   "execution_count": null,
   "id": "fdd32008",
   "metadata": {},
   "outputs": [],
   "source": [
    "#Task4.1 Create image by yourself Using Python code"
   ]
  },
  {
   "cell_type": "code",
   "execution_count": null,
   "id": "8873dbb6",
   "metadata": {},
   "outputs": [],
   "source": [
    "import cv2"
   ]
  },
  {
   "cell_type": "code",
   "execution_count": null,
   "id": "57fd80d2",
   "metadata": {},
   "outputs": [],
   "source": [
    "import numpy as np"
   ]
  },
  {
   "cell_type": "code",
   "execution_count": null,
   "id": "46275ac9",
   "metadata": {},
   "outputs": [],
   "source": [
    "photo = np.zeros((600,600,3))"
   ]
  },
  {
   "cell_type": "code",
   "execution_count": null,
   "id": "be9ae71d",
   "metadata": {},
   "outputs": [],
   "source": [
    "photo.shape"
   ]
  },
  {
   "cell_type": "code",
   "execution_count": null,
   "id": "8742bb12",
   "metadata": {},
   "outputs": [],
   "source": [
    "cv2.circle(photo,center=(250,75), radius =75 , color=(255,255,0),thickness=-1) #head\n",
    "\n",
    "photo[150:170,240:260]=[0,0,255] #neck\n",
    "\n",
    "photo[170:300,150:350]=[255,0,0] #body\n",
    "\n",
    "photo[300:450,290:305]=[255,0,0] #right leg\n",
    "photo[300:450,190:205]=[255,0,0] #left leg\n",
    "\n",
    "photo[170:180,350:450]=[0,255,0]#right hand\n",
    "photo[170:180,50:150]=[0,255,0]# left hand\n",
    "\n",
    "cv2.imshow(\"photo\",photo)\n",
    "cv2.waitKey()\n",
    "cv2.destroyAllWindows()"
   ]
  },
  {
   "cell_type": "code",
   "execution_count": null,
   "id": "140256a4",
   "metadata": {},
   "outputs": [],
   "source": [
    "#Task4.2 image crop some part of both image and swap it"
   ]
  },
  {
   "cell_type": "code",
   "execution_count": 1,
   "id": "1fb819dc",
   "metadata": {},
   "outputs": [],
   "source": [
    "import cv2"
   ]
  },
  {
   "cell_type": "code",
   "execution_count": 2,
   "id": "07cd65aa",
   "metadata": {},
   "outputs": [
    {
     "data": {
      "text/plain": [
       "(204, 247, 3)"
      ]
     },
     "execution_count": 2,
     "metadata": {},
     "output_type": "execute_result"
    }
   ],
   "source": [
    "img1 = cv2.imread('download (1).jfif')\n",
    "img1.shape"
   ]
  },
  {
   "cell_type": "code",
   "execution_count": 3,
   "id": "cdf583c2",
   "metadata": {},
   "outputs": [
    {
     "data": {
      "text/plain": [
       "(184, 273, 3)"
      ]
     },
     "execution_count": 3,
     "metadata": {},
     "output_type": "execute_result"
    }
   ],
   "source": [
    "img2 = cv2.imread(\"download.jfif\")\n",
    "img2.shape"
   ]
  },
  {
   "cell_type": "code",
   "execution_count": 4,
   "id": "87b26f82",
   "metadata": {},
   "outputs": [],
   "source": [
    "cv2.imshow(\"img1\",img1)\n",
    "cv2.imshow(\"img2\",img2)\n",
    "cv2.waitKey()\n",
    "cv2.destroyAllWindows()"
   ]
  },
  {
   "cell_type": "code",
   "execution_count": 5,
   "id": "1c6727a2",
   "metadata": {},
   "outputs": [],
   "source": [
    "crop1 = img2[0:184,0:200]\n",
    "img1[0:184 , 0:200] = crop1\n",
    "cv2.imshow(\"swappping\",img1)\n",
    "cv2.waitKey()\n",
    "cv2.destroyAllWindows()"
   ]
  },
  {
   "cell_type": "code",
   "execution_count": null,
   "id": "d83a5bcb",
   "metadata": {},
   "outputs": [],
   "source": [
    "crop2 = img1[0:180,0:240]\n",
    "img2[0:180, 0:240] = crop2\n",
    "cv2.imshow(\"swappping2\",img2)\n",
    "cv2.waitKey()\n",
    "cv2.destroyAllWindows()"
   ]
  },
  {
   "cell_type": "code",
   "execution_count": null,
   "id": "0a17b5f6",
   "metadata": {},
   "outputs": [],
   "source": [
    "#Task4.3 take 2 image and combine it to form single image. For example collage "
   ]
  },
  {
   "cell_type": "code",
   "execution_count": null,
   "id": "dc9206d9",
   "metadata": {},
   "outputs": [],
   "source": [
    "import cv2\n",
    "import numpy as np"
   ]
  },
  {
   "cell_type": "code",
   "execution_count": null,
   "id": "4bfe9498",
   "metadata": {},
   "outputs": [],
   "source": [
    "img1 = cv2.imread(\"download (1).jfif\")\n",
    "img2 = cv2.imread(\"download.jfif\")\n",
    "img1.shape , img2.shape"
   ]
  },
  {
   "cell_type": "code",
   "execution_count": null,
   "id": "174ec7f8",
   "metadata": {},
   "outputs": [],
   "source": [
    "cv2.imshow(\"img1\",img1)\n",
    "cv2.imshow(\"img2\",img2)\n",
    "cv2.waitKey()\n",
    "cv2.destroyAllWindows()"
   ]
  },
  {
   "cell_type": "code",
   "execution_count": null,
   "id": "368e2767",
   "metadata": {},
   "outputs": [],
   "source": [
    "img1 = img1[:184 , : , :]"
   ]
  },
  {
   "cell_type": "code",
   "execution_count": null,
   "id": "90217f3c",
   "metadata": {},
   "outputs": [],
   "source": [
    "college = np.hstack((img1 , img2))"
   ]
  },
  {
   "cell_type": "code",
   "execution_count": null,
   "id": "e454ab01",
   "metadata": {},
   "outputs": [],
   "source": [
    "cv2.imshow('hstack',college)\n",
    "cv2.waitKey()\n",
    "cv2.destroyAllWindows"
   ]
  },
  {
   "cell_type": "code",
   "execution_count": null,
   "id": "7c5745d3",
   "metadata": {},
   "outputs": [],
   "source": [
    "#TASK COMPLETED"
   ]
  }
 ],
 "metadata": {
  "kernelspec": {
   "display_name": "Python 3",
   "language": "python",
   "name": "python3"
  },
  "language_info": {
   "codemirror_mode": {
    "name": "ipython",
    "version": 3
   },
   "file_extension": ".py",
   "mimetype": "text/x-python",
   "name": "python",
   "nbconvert_exporter": "python",
   "pygments_lexer": "ipython3",
   "version": "3.8.8"
  }
 },
 "nbformat": 4,
 "nbformat_minor": 5
}
